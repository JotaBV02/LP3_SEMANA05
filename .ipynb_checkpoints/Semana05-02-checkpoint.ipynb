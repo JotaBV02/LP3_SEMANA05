{
 "cells": [
  {
   "cell_type": "code",
   "execution_count": 38,
   "id": "699e2464",
   "metadata": {},
   "outputs": [],
   "source": [
    "# SEMANA 05\n",
    "# Jorge Alberto Bravo Veintemilla"
   ]
  },
  {
   "cell_type": "markdown",
   "id": "97099d97",
   "metadata": {},
   "source": [
    "Temas\n",
    "1. Colecciones de datos\n",
    "2. Estructuras Decisivas y Estructuras Repetitivas\n",
    "3. Funciones\n",
    "4. Clases y objetos"
   ]
  },
  {
   "cell_type": "markdown",
   "id": "d935b2d6",
   "metadata": {},
   "source": [
    "2. Bucles y condiciones"
   ]
  },
  {
   "cell_type": "code",
   "execution_count": 36,
   "id": "ca1cc099",
   "metadata": {},
   "outputs": [],
   "source": [
    "# 2.1 Estructuras Decisivas (if, elif, else)"
   ]
  },
  {
   "cell_type": "code",
   "execution_count": 37,
   "id": "82771b3c",
   "metadata": {},
   "outputs": [],
   "source": [
    "# if\n",
    "# Problema: Dado el precio de 3 productos ingresados por el teclado, aplicar un descuento del 10% si la\n",
    "# venta es mayor o igual a 1000."
   ]
  },
  {
   "cell_type": "code",
   "execution_count": 4,
   "id": "479c5c67",
   "metadata": {},
   "outputs": [
    {
     "name": "stdout",
     "output_type": "stream",
     "text": [
      "Producto 1: 78\n",
      "Producto 2: 964\n",
      "Producto 3: 241\n",
      "El total a pagar es: 1154.7\n"
     ]
    }
   ],
   "source": [
    "# Solución\n",
    "P1 = float(input(\"Producto 1: \"))\n",
    "P2 = float(input(\"Producto 2: \"))\n",
    "P3 = float(input(\"Producto 3: \"))\n",
    "total = P1 + P2 + P3\n",
    "if total>=1000:\n",
    "    total *= 0.9\n",
    "print(f\"El total a pagar es: {total}\")"
   ]
  },
  {
   "cell_type": "code",
   "execution_count": 5,
   "id": "550d3e62",
   "metadata": {},
   "outputs": [],
   "source": [
    "# Problema 01 (Recordando)\n",
    "# Dado una lista de [\"AMES\", \"ARTEAGA\", \"BARRIOS\", \"BONIFACIO\", \"BRAVO\", \"CABALLERO\", \"CAÑAZACA\", \"FERNANDEZ\", \"FLORES\", \"GARCIA\", \"HERRERA\", \"HUERTA\", \"HUERTAS\", \"JIMENEZ\", \"MAMANI\", \"MANCILLA\", \"PABLO\", \"PAYE\", \"PEÑA\", \"PIZANGO\", \"RAMOS\", \"SANCHEZ\", \"SEVILLANO\", \"TINOCO\", \"TORRES\", \"VALDIVIESO\", \"VELEZ\", \"VILLANUEVA\", \"ZUÑIGA\"]\n",
    "# Diseñar un código que muestre si el apellido de un estudiante (Ingresado por teclado) forma parte de la lista"
   ]
  },
  {
   "cell_type": "code",
   "execution_count": 6,
   "id": "e86bfbd0",
   "metadata": {},
   "outputs": [
    {
     "name": "stdout",
     "output_type": "stream",
     "text": [
      "Ingresa nombre a buscar: Bravo\n",
      "Si está en la lista de LP3\n"
     ]
    }
   ],
   "source": [
    "# Solución:\n",
    "LP3 = [\"AMES\", \"ARTEAGA\", \"BARRIOS\", \"BONIFACIO\", \"BRAVO\", \"CABALLERO\", \"CAÑAZACA\", \"FERNANDEZ\", \"FLORES\", \"GARCIA\", \"HERRERA\", \"HUERTA\", \"HUERTAS\", \"JIMENEZ\", \"MAMANI\", \"MANCILLA\", \"PABLO\", \"PAYE\", \"PEÑA\", \"PIZANGO\", \"RAMOS\", \"SANCHEZ\", \"SEVILLANO\", \"TINOCO\", \"TORRES\", \"VALDIVIESO\", \"VELEZ\", \"VILLANUEVA\", \"ZUÑIGA\"]\n",
    "\n",
    "apellido = input(\"Ingresa nombre a buscar: \")\n",
    "\n",
    "# Como los datos de la lista están en mayúscula, utilizo upper()\n",
    "if apellido.upper() in LP3:\n",
    "    print(\"Si está en la lista de LP3\")\n",
    "else:\n",
    "    print(\"No está en la lista de LP3\")"
   ]
  },
  {
   "cell_type": "code",
   "execution_count": 7,
   "id": "2bb343c9",
   "metadata": {},
   "outputs": [],
   "source": [
    "# Problema 02\n",
    "# Dado el importe total de ventas realizadas por un trabajador (ingresado por teclado,\n",
    "# categorizar que tipo de empleado es, considerando la siguiente tabla:\n",
    "\n",
    "# Categoria: A -> [0, 1000]\n",
    "# Categoria: B -> <1000, 2000]\n",
    "# Categoria: C -> <2000, 5000]\n",
    "# Categoría: D -> <5000, Mas]\n",
    "\n",
    "# Tiempo asignado: 12 minutos"
   ]
  },
  {
   "cell_type": "code",
   "execution_count": 16,
   "id": "2464b8c9",
   "metadata": {},
   "outputs": [
    {
     "name": "stdout",
     "output_type": "stream",
     "text": [
      "Importe de ventas realizadas: -3040\n",
      "Datos erroneos\n"
     ]
    }
   ],
   "source": [
    "# Solución\n",
    "ventas = float(input(\"Importe de ventas realizadas: \"))\n",
    "if ventas < 0:\n",
    "    print(\"Datos erroneos\")\n",
    "else:\n",
    "    if ventas<=1000:\n",
    "        print(\"Categoria A\")\n",
    "    else:\n",
    "        if ventas <=2000:\n",
    "            print(\"Categoria B\")\n",
    "        else:\n",
    "            if ventas <= 5000:\n",
    "                print(\"Categoria C\")\n",
    "            else:\n",
    "                print(\"Categoria D\")"
   ]
  },
  {
   "cell_type": "code",
   "execution_count": 17,
   "id": "b380fff6",
   "metadata": {},
   "outputs": [],
   "source": [
    "# elif\n",
    "# Problema 03, Solucionar el problema anterior utilizando elif\n",
    "\n",
    "# Dado el importe total de ventas realizadas por un trabajador (ingresado por teclado,\n",
    "# categorizar que tipo de empleado es, considerando la siguiente tabla:\n",
    "\n",
    "# Categoria: A -> [0, 1000]\n",
    "# Categoria: B -> <1000, 2000]\n",
    "# Categoria: C -> <2000, 5000]\n",
    "# Categoría: D -> <5000, Mas]\n",
    "\n",
    "# Tiempo asignado: 12 minutos"
   ]
  },
  {
   "cell_type": "code",
   "execution_count": 18,
   "id": "9a04361d",
   "metadata": {},
   "outputs": [
    {
     "name": "stdout",
     "output_type": "stream",
     "text": [
      "Importe de ventas realizadas: 400\n",
      "Categoria A\n"
     ]
    }
   ],
   "source": [
    "# Solución\n",
    "\n",
    "ventas = float(input(\"Importe de ventas realizadas: \"))\n",
    "if ventas < 0:\n",
    "    print(\"Datos erroneos\")\n",
    "elif ventas<=1000:\n",
    "    print(\"Categoria A\")\n",
    "elif ventas <=2000:\n",
    "    print(\"Categoria B\")\n",
    "elif ventas <= 5000:\n",
    "    print(\"Categoria C\")\n",
    "else:\n",
    "    print(\"Categoria D\")"
   ]
  },
  {
   "cell_type": "code",
   "execution_count": 19,
   "id": "7a6b3a4b",
   "metadata": {},
   "outputs": [],
   "source": [
    "# 2.2 Estructuras repetitivas"
   ]
  },
  {
   "cell_type": "code",
   "execution_count": 20,
   "id": "1936fb3f",
   "metadata": {},
   "outputs": [],
   "source": [
    "# for"
   ]
  },
  {
   "cell_type": "code",
   "execution_count": 21,
   "id": "18dd2c8c",
   "metadata": {},
   "outputs": [],
   "source": [
    "# Problema 01:\n",
    "# Mostrar los elementos de una lista utilizando for"
   ]
  },
  {
   "cell_type": "code",
   "execution_count": 22,
   "id": "164ba87a",
   "metadata": {},
   "outputs": [
    {
     "name": "stdout",
     "output_type": "stream",
     "text": [
      "Bravo\n",
      "Peña\n",
      "Torres\n",
      "Villanueva\n"
     ]
    }
   ],
   "source": [
    "# Solución\n",
    "aula = ['Bravo','Peña','Torres','Villanueva']\n",
    "\n",
    "# Por cada alumno que está en la lista, imprimir alumno\n",
    "for alumno in aula:\n",
    "    print(alumno)"
   ]
  },
  {
   "cell_type": "code",
   "execution_count": 23,
   "id": "3845f480",
   "metadata": {},
   "outputs": [],
   "source": [
    "# Problema 02:\n",
    "# Dado una cadena ingresado por teclado, mostrar cada caracter de la cadena, utilizando la estructura for"
   ]
  },
  {
   "cell_type": "code",
   "execution_count": 26,
   "id": "d2130c41",
   "metadata": {},
   "outputs": [
    {
     "name": "stdout",
     "output_type": "stream",
     "text": [
      "Ingrese Cadena: I´m the best\n",
      "I\n",
      "´\n",
      "m\n",
      " \n",
      "t\n",
      "h\n",
      "e\n",
      " \n",
      "b\n",
      "e\n",
      "s\n",
      "t\n"
     ]
    }
   ],
   "source": [
    "# Solución\n",
    "cadena = input(\"Ingrese Cadena: \")\n",
    "for caracter in cadena:\n",
    "    print(caracter)"
   ]
  },
  {
   "cell_type": "code",
   "execution_count": 27,
   "id": "71c8d787",
   "metadata": {},
   "outputs": [
    {
     "data": {
      "text/plain": [
       "range(0, 5)"
      ]
     },
     "execution_count": 27,
     "metadata": {},
     "output_type": "execute_result"
    }
   ],
   "source": [
    "# Para generar rangos de números utilizamos range()\n",
    "range(5)\n",
    "# [0, 5>"
   ]
  },
  {
   "cell_type": "code",
   "execution_count": 28,
   "id": "d495e5aa",
   "metadata": {},
   "outputs": [
    {
     "name": "stdout",
     "output_type": "stream",
     "text": [
      "0\n",
      "1\n",
      "2\n",
      "3\n",
      "4\n",
      "5\n",
      "6\n",
      "7\n",
      "8\n",
      "9\n",
      "10\n"
     ]
    }
   ],
   "source": [
    "# Problema 02\n",
    "# Imprimir los números de 0 a 10, utilizando for\n",
    "for numero in range(11):\n",
    "    print (numero)"
   ]
  },
  {
   "cell_type": "code",
   "execution_count": 29,
   "id": "fcc2961b",
   "metadata": {},
   "outputs": [
    {
     "name": "stdout",
     "output_type": "stream",
     "text": [
      "5\n",
      "6\n",
      "7\n",
      "8\n",
      "9\n",
      "10\n"
     ]
    }
   ],
   "source": [
    "# Problema 03\n",
    "# Imprimir los números de 5 a 10, utilizando for\n",
    "for numero in range(5,11):\n",
    "    print (numero)"
   ]
  },
  {
   "cell_type": "code",
   "execution_count": 30,
   "id": "0fd2a913",
   "metadata": {},
   "outputs": [],
   "source": [
    "# Tambien funcionan los bucles anidados:"
   ]
  },
  {
   "cell_type": "code",
   "execution_count": 31,
   "id": "a478c6b8",
   "metadata": {},
   "outputs": [],
   "source": [
    "# Problema 03\n",
    "# Dado una lista de números, utilizando el algoritmo de burbuja ordenarlos de menor a mayor\n",
    "# Tiempo asignado: 12 minutos\n",
    "\n",
    "# Codigo en java\n",
    "# package ordenamiento;\n",
    "# public class burbuja {\n",
    "#    public static void main(String[] args) {\n",
    "#        int temp;\n",
    "#        int lista[]={12,5,1,4,10,0};\n",
    "#        for(int i=0;i<lista.length-1;i++){\n",
    "#            for(int j=i+1; j<lista.length; j++){\n",
    "#                if(lista[i]>lista[j]){\n",
    "#                    temp = lista[i];\n",
    "#                    lista[i] = lista[j];\n",
    "#                    lista[j] = temp;\n",
    "#                }\n",
    "#            }\n",
    "#        }\n",
    "#        System.out.println(\"Lista ordenada\");\n",
    "#        for(int a=0; a<lista.length; a++){\n",
    "#                    System.out.print(lista[a] + \" \");\n",
    "#        }\n",
    "#    }\n",
    "# }"
   ]
  },
  {
   "cell_type": "code",
   "execution_count": 32,
   "id": "3325db85",
   "metadata": {},
   "outputs": [
    {
     "name": "stdout",
     "output_type": "stream",
     "text": [
      "Lista inicial: \n",
      "[10, 20, 5, -10, 100, 0, 50, 17, 2000, -1000, 0]\n",
      "Lista ordena:\n",
      "[-1000, -10, 0, 0, 5, 10, 17, 20, 50, 100, 2000]\n"
     ]
    }
   ],
   "source": [
    "# Solución\n",
    "print(\"Lista inicial: \")\n",
    "lista = [10, 20, 5, -10, 100, 0 , 50, 17, 2000,-1000,0]\n",
    "print(lista)\n",
    "i=0\n",
    "for i in range(0,len(lista)-1):\n",
    "    for j in range(i+1,len(lista)):\n",
    "        if lista[i]>lista[j]:\n",
    "            temp = lista[i]\n",
    "            lista[i] = lista[j]\n",
    "            lista[j] = temp\n",
    "print(\"Lista ordena:\")\n",
    "print(lista)"
   ]
  },
  {
   "cell_type": "code",
   "execution_count": 33,
   "id": "601cdcf7",
   "metadata": {},
   "outputs": [],
   "source": [
    "# while\n",
    "# Permite ejecutar un conjunto de acciones mientras se cumpla una condición"
   ]
  },
  {
   "cell_type": "code",
   "execution_count": 34,
   "id": "9d8a7c67",
   "metadata": {},
   "outputs": [
    {
     "name": "stdout",
     "output_type": "stream",
     "text": [
      "1\n",
      "2\n",
      "3\n",
      "4\n",
      "5\n",
      "6\n",
      "7\n",
      "8\n",
      "9\n",
      "10\n"
     ]
    }
   ],
   "source": [
    "# Ejemplo:\n",
    "numero = 1\n",
    "fin = 10\n",
    "while numero <= fin:\n",
    "    print(numero)\n",
    "    numero+=1"
   ]
  },
  {
   "cell_type": "code",
   "execution_count": null,
   "id": "43a2b92b",
   "metadata": {},
   "outputs": [],
   "source": []
  }
 ],
 "metadata": {
  "kernelspec": {
   "display_name": "Python 3 (ipykernel)",
   "language": "python",
   "name": "python3"
  },
  "language_info": {
   "codemirror_mode": {
    "name": "ipython",
    "version": 3
   },
   "file_extension": ".py",
   "mimetype": "text/x-python",
   "name": "python",
   "nbconvert_exporter": "python",
   "pygments_lexer": "ipython3",
   "version": "3.9.12"
  }
 },
 "nbformat": 4,
 "nbformat_minor": 5
}
