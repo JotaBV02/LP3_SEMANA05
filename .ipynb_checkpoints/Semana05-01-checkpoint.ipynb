{
 "cells": [
  {
   "cell_type": "code",
   "execution_count": null,
   "metadata": {
    "id": "2IXJcRBz3rev"
   },
   "outputs": [],
   "source": []
  },
  {
   "cell_type": "markdown",
   "metadata": {
    "id": "MYRZPrmX0BZ7"
   },
   "source": [
    "# SEMANA 05\n",
    "\n",
    "Jorge Alberto Bravo Veintemilla"
   ]
  },
  {
   "cell_type": "markdown",
   "metadata": {
    "id": "h8NAZbLx0BaA"
   },
   "source": [
    "Temas\n",
    "1. Colecciones de datos\n",
    "2. Estructuras Decisivas y Estructuras Repetitivas\n",
    "3. Clases y Objetos\n",
    "4. Funciones"
   ]
  },
  {
   "cell_type": "markdown",
   "metadata": {
    "id": "9EV3FCEd0BaC"
   },
   "source": [
    "1. Colecciones"
   ]
  },
  {
   "cell_type": "code",
   "execution_count": 1,
   "metadata": {
    "colab": {
     "base_uri": "https://localhost:8080/"
    },
    "executionInfo": {
     "elapsed": 13,
     "status": "ok",
     "timestamp": 1696259301402,
     "user": {
      "displayName": "Flor Elizabeth Cerdan Leon",
      "userId": "15782977567018768645"
     },
     "user_tz": 300
    },
    "id": "l6mc6QXB0BaC",
    "outputId": "d5066112-8e0d-4b6a-9e9e-f2fa9aae1422"
   },
   "outputs": [
    {
     "name": "stdout",
     "output_type": "stream",
     "text": [
      "['Bravo', 'Peña', 'Torres', 'Villanueva']\n"
     ]
    }
   ],
   "source": [
    "# 1.1. Listas\n",
    "# Es una colección de elementos que puede ser ordenada, modificada, etc..\n",
    "# Se identifica por los corchetes\n",
    "# Ejemplo:\n",
    "aula = ['Bravo','Peña','Torres','Villanueva']\n",
    "print(aula)"
   ]
  },
  {
   "cell_type": "code",
   "execution_count": 2,
   "metadata": {
    "colab": {
     "base_uri": "https://localhost:8080/"
    },
    "executionInfo": {
     "elapsed": 12,
     "status": "ok",
     "timestamp": 1696259301403,
     "user": {
      "displayName": "Flor Elizabeth Cerdan Leon",
      "userId": "15782977567018768645"
     },
     "user_tz": 300
    },
    "id": "6ccd7Mxa0BaG",
    "outputId": "c7e56b1a-3d74-4368-fe25-1924b195d3b8"
   },
   "outputs": [
    {
     "data": {
      "text/plain": [
       "['Bravo', 'Peña', 'Torres', 'Villanueva']"
      ]
     },
     "execution_count": 2,
     "metadata": {},
     "output_type": "execute_result"
    }
   ],
   "source": [
    "# Tambien se puede imprimir con solo mencional la lista\n",
    "aula"
   ]
  },
  {
   "cell_type": "code",
   "execution_count": 3,
   "metadata": {
    "colab": {
     "base_uri": "https://localhost:8080/"
    },
    "executionInfo": {
     "elapsed": 11,
     "status": "ok",
     "timestamp": 1696259301403,
     "user": {
      "displayName": "Flor Elizabeth Cerdan Leon",
      "userId": "15782977567018768645"
     },
     "user_tz": 300
    },
    "id": "YyXO1XTA0BaH",
    "outputId": "20224585-acab-48a9-fe36-2ca9f77a593c"
   },
   "outputs": [
    {
     "name": "stdout",
     "output_type": "stream",
     "text": [
      "Bravo\n",
      "Peña\n"
     ]
    }
   ],
   "source": [
    "# Podemos extraer cada elemento por su posición\n",
    "print(aula[0])\n",
    "print(aula[1])"
   ]
  },
  {
   "cell_type": "code",
   "execution_count": 13,
   "metadata": {
    "colab": {
     "base_uri": "https://localhost:8080/",
     "height": 35
    },
    "executionInfo": {
     "elapsed": 10,
     "status": "ok",
     "timestamp": 1696259301403,
     "user": {
      "displayName": "Flor Elizabeth Cerdan Leon",
      "userId": "15782977567018768645"
     },
     "user_tz": 300
    },
    "id": "-X8T42qR0BaI",
    "outputId": "6495643b-44b4-42a3-e817-8a162badde6c"
   },
   "outputs": [
    {
     "data": {
      "text/plain": [
       "'Bravo'"
      ]
     },
     "execution_count": 13,
     "metadata": {},
     "output_type": "execute_result"
    }
   ],
   "source": [
    "# Puedo asignar un valor a una posición de la lista\n",
    "aula[1] = 'Bravo'\n",
    "aula[1]"
   ]
  },
  {
   "cell_type": "code",
   "execution_count": 14,
   "metadata": {
    "colab": {
     "base_uri": "https://localhost:8080/"
    },
    "executionInfo": {
     "elapsed": 9,
     "status": "ok",
     "timestamp": 1696259301403,
     "user": {
      "displayName": "Flor Elizabeth Cerdan Leon",
      "userId": "15782977567018768645"
     },
     "user_tz": 300
    },
    "id": "J-QQJAUB0BaJ",
    "outputId": "5c7a7d08-1fe6-4931-f9be-ae85ec05fb19"
   },
   "outputs": [
    {
     "data": {
      "text/plain": [
       "['Bravo',\n",
       " 'Bravo',\n",
       " 'Villanueva',\n",
       " 'Hermitaño',\n",
       " 'Huertas',\n",
       " 'Barrios',\n",
       " 'Huertas',\n",
       " 'Barrios']"
      ]
     },
     "execution_count": 14,
     "metadata": {},
     "output_type": "execute_result"
    }
   ],
   "source": [
    "# Mostramos como quedó la lista\n",
    "aula"
   ]
  },
  {
   "cell_type": "code",
   "execution_count": 15,
   "metadata": {
    "colab": {
     "base_uri": "https://localhost:8080/"
    },
    "executionInfo": {
     "elapsed": 8,
     "status": "ok",
     "timestamp": 1696259301403,
     "user": {
      "displayName": "Flor Elizabeth Cerdan Leon",
      "userId": "15782977567018768645"
     },
     "user_tz": 300
    },
    "id": "RCWYIPmm0BaK",
    "outputId": "e831c4be-0c9c-4db0-edf9-c568ae74e47b"
   },
   "outputs": [
    {
     "data": {
      "text/plain": [
       "['Bravo',\n",
       " 'Bravo',\n",
       " 'Villanueva',\n",
       " 'Hermitaño',\n",
       " 'Huertas',\n",
       " 'Barrios',\n",
       " 'Huertas',\n",
       " 'Barrios',\n",
       " 'Huertas',\n",
       " 'Barrios']"
      ]
     },
     "execution_count": 15,
     "metadata": {},
     "output_type": "execute_result"
    }
   ],
   "source": [
    "# Para agregar un elemento utilizamos append\n",
    "aula.append(\"Huertas\")\n",
    "aula.append(\"Barrios\")\n",
    "aula"
   ]
  },
  {
   "cell_type": "code",
   "execution_count": 20,
   "metadata": {
    "colab": {
     "base_uri": "https://localhost:8080/"
    },
    "executionInfo": {
     "elapsed": 7,
     "status": "ok",
     "timestamp": 1696259301403,
     "user": {
      "displayName": "Flor Elizabeth Cerdan Leon",
      "userId": "15782977567018768645"
     },
     "user_tz": 300
    },
    "id": "-hkIOI0Z0BaM",
    "outputId": "983119d2-62e0-401c-f8d2-fe752fbb3dbd"
   },
   "outputs": [
    {
     "data": {
      "text/plain": [
       "['Bravo', 'Villanueva', 'Hermitaño', 'Huertas', 'Barrios']"
      ]
     },
     "execution_count": 20,
     "metadata": {},
     "output_type": "execute_result"
    }
   ],
   "source": [
    "# Para eliminar elementos utilizamos remove[]\n",
    "aula.remove(\"Barrios\")\n",
    "aula"
   ]
  },
  {
   "cell_type": "code",
   "execution_count": 21,
   "metadata": {
    "colab": {
     "base_uri": "https://localhost:8080/"
    },
    "executionInfo": {
     "elapsed": 343,
     "status": "ok",
     "timestamp": 1696259301740,
     "user": {
      "displayName": "Flor Elizabeth Cerdan Leon",
      "userId": "15782977567018768645"
     },
     "user_tz": 300
    },
    "id": "yMcKNx6k0BaN",
    "outputId": "ca01872f-f96f-418d-85ff-be7a838c7271"
   },
   "outputs": [
    {
     "data": {
      "text/plain": [
       "['Bravo', 'Villanueva', 'Huertas', 'Barrios']"
      ]
     },
     "execution_count": 21,
     "metadata": {},
     "output_type": "execute_result"
    }
   ],
   "source": [
    "# Si hubiera varios elementos de valores iguales se elimina la primera coincidencia\n",
    "aula.remove(\"Hermitaño\")\n",
    "aula"
   ]
  },
  {
   "cell_type": "code",
   "execution_count": 22,
   "metadata": {
    "colab": {
     "base_uri": "https://localhost:8080/"
    },
    "executionInfo": {
     "elapsed": 10,
     "status": "ok",
     "timestamp": 1696259301740,
     "user": {
      "displayName": "Flor Elizabeth Cerdan Leon",
      "userId": "15782977567018768645"
     },
     "user_tz": 300
    },
    "id": "7eko4X770BaO",
    "outputId": "f8bb9963-710f-4f53-f06a-a3136acf0ac4"
   },
   "outputs": [
    {
     "data": {
      "text/plain": [
       "4"
      ]
     },
     "execution_count": 22,
     "metadata": {},
     "output_type": "execute_result"
    }
   ],
   "source": [
    "# Para obtener el tamaño utilizamos len()\n",
    "len(aula)"
   ]
  },
  {
   "cell_type": "code",
   "execution_count": 23,
   "metadata": {
    "colab": {
     "base_uri": "https://localhost:8080/"
    },
    "executionInfo": {
     "elapsed": 11,
     "status": "ok",
     "timestamp": 1696259301741,
     "user": {
      "displayName": "Flor Elizabeth Cerdan Leon",
      "userId": "15782977567018768645"
     },
     "user_tz": 300
    },
    "id": "lblOn4g20BaO",
    "outputId": "afe82500-5783-400d-9ef0-97cd8d0adee5"
   },
   "outputs": [
    {
     "name": "stdout",
     "output_type": "stream",
     "text": [
      "Bravo\n",
      "Villanueva\n",
      "Huertas\n",
      "Barrios\n"
     ]
    }
   ],
   "source": [
    "# Para recorrrer podemos utilizar una estructura repetitiva\n",
    "for alumno in aula:\n",
    "    print(alumno)"
   ]
  },
  {
   "cell_type": "code",
   "execution_count": 24,
   "metadata": {
    "colab": {
     "base_uri": "https://localhost:8080/"
    },
    "executionInfo": {
     "elapsed": 10,
     "status": "ok",
     "timestamp": 1696259301741,
     "user": {
      "displayName": "Flor Elizabeth Cerdan Leon",
      "userId": "15782977567018768645"
     },
     "user_tz": 300
    },
    "id": "2md_Hucx0BaP",
    "outputId": "440ab2eb-7610-4cb1-97cc-c28b76e712db"
   },
   "outputs": [
    {
     "data": {
      "text/plain": [
       "['Barrios', 'Huertas', 'Villanueva', 'Bravo']"
      ]
     },
     "execution_count": 24,
     "metadata": {},
     "output_type": "execute_result"
    }
   ],
   "source": [
    "# Para invertir la lista utilizamos reverse()\n",
    "# invertir NO significa ordenar en forma descendente sin invertir la lista\n",
    "aula.reverse()\n",
    "aula"
   ]
  },
  {
   "cell_type": "code",
   "execution_count": 25,
   "metadata": {
    "colab": {
     "base_uri": "https://localhost:8080/"
    },
    "executionInfo": {
     "elapsed": 9,
     "status": "ok",
     "timestamp": 1696259301741,
     "user": {
      "displayName": "Flor Elizabeth Cerdan Leon",
      "userId": "15782977567018768645"
     },
     "user_tz": 300
    },
    "id": "IH5KSrqF0BaQ",
    "outputId": "6da606da-3382-4e14-b70e-f04345966783"
   },
   "outputs": [
    {
     "data": {
      "text/plain": [
       "['Barrios', 'Bravo', 'Huertas', 'Villanueva']"
      ]
     },
     "execution_count": 25,
     "metadata": {},
     "output_type": "execute_result"
    }
   ],
   "source": [
    "# Parar ordenar una lista utilizamos sort()\n",
    "aula.sort()\n",
    "aula"
   ]
  },
  {
   "cell_type": "code",
   "execution_count": 28,
   "metadata": {
    "colab": {
     "base_uri": "https://localhost:8080/"
    },
    "executionInfo": {
     "elapsed": 8,
     "status": "ok",
     "timestamp": 1696259301741,
     "user": {
      "displayName": "Flor Elizabeth Cerdan Leon",
      "userId": "15782977567018768645"
     },
     "user_tz": 300
    },
    "id": "pPYOyyBF0BaR",
    "outputId": "1cc27921-2e90-4deb-a4d6-ee80c75a91c6"
   },
   "outputs": [
    {
     "data": {
      "text/plain": [
       "('Bravo', 'Peña', 'Torres', 'Villanueva')"
      ]
     },
     "execution_count": 28,
     "metadata": {},
     "output_type": "execute_result"
    }
   ],
   "source": [
    "# 1.2 Tuplas\n",
    "# Es una colección de elementos ordenada (Ordenado significa que tiene un índice) que no se pueden modificar, es inalterable.\n",
    "# No se pueden agregar elementos ni eliminar.\n",
    "# se identifica por los parentesis\n",
    "tupla_aula = ('Bravo','Peña','Torres','Villanueva')\n",
    "tupla_aula"
   ]
  },
  {
   "cell_type": "code",
   "execution_count": 29,
   "metadata": {
    "colab": {
     "base_uri": "https://localhost:8080/"
    },
    "executionInfo": {
     "elapsed": 8,
     "status": "ok",
     "timestamp": 1696259301741,
     "user": {
      "displayName": "Flor Elizabeth Cerdan Leon",
      "userId": "15782977567018768645"
     },
     "user_tz": 300
    },
    "id": "w2p3PHGh0BaS",
    "outputId": "a87bf4dd-b4f4-43db-dc9d-853c9b936d0e",
    "scrolled": true
   },
   "outputs": [
    {
     "data": {
      "text/plain": [
       "('Bravo', 'Peña', 'Torres', 'Villanueva')"
      ]
     },
     "execution_count": 29,
     "metadata": {},
     "output_type": "execute_result"
    }
   ],
   "source": [
    "# 1.2 Tuplas\n",
    "# Es una colección de elementos ordenada (Ordenado significa que tiene un índice) que no se pueden modificar, es inalterable.\n",
    "# No se pueden agregar elementos ni eliminar.\n",
    "# se identifica por los parentesis\n",
    "tupla_aula = ('Bravo','Peña','Torres','Villanueva')\n",
    "tupla_aula"
   ]
  },
  {
   "cell_type": "code",
   "execution_count": 30,
   "metadata": {
    "colab": {
     "base_uri": "https://localhost:8080/",
     "height": 35
    },
    "executionInfo": {
     "elapsed": 8,
     "status": "ok",
     "timestamp": 1696259301742,
     "user": {
      "displayName": "Flor Elizabeth Cerdan Leon",
      "userId": "15782977567018768645"
     },
     "user_tz": 300
    },
    "id": "es3649sF0BaS",
    "outputId": "ec64d976-6107-4067-b8bf-b6f10d6b2ce5"
   },
   "outputs": [
    {
     "data": {
      "text/plain": [
       "'Torres'"
      ]
     },
     "execution_count": 30,
     "metadata": {},
     "output_type": "execute_result"
    }
   ],
   "source": [
    "# Se puede extraer un elemento por su posición\n",
    "tupla_aula[2]"
   ]
  },
  {
   "cell_type": "code",
   "execution_count": 31,
   "metadata": {
    "colab": {
     "base_uri": "https://localhost:8080/"
    },
    "executionInfo": {
     "elapsed": 7,
     "status": "ok",
     "timestamp": 1696259301742,
     "user": {
      "displayName": "Flor Elizabeth Cerdan Leon",
      "userId": "15782977567018768645"
     },
     "user_tz": 300
    },
    "id": "9daWaeFU0BaT",
    "outputId": "5b56f93b-4e07-488e-ab1a-a96a8b92a2fa"
   },
   "outputs": [
    {
     "data": {
      "text/plain": [
       "4"
      ]
     },
     "execution_count": 31,
     "metadata": {},
     "output_type": "execute_result"
    }
   ],
   "source": [
    "# Para saber la cantidad de elementos de una tupla utilizamos len()\n",
    "len(tupla_aula)"
   ]
  },
  {
   "cell_type": "code",
   "execution_count": 32,
   "metadata": {
    "colab": {
     "base_uri": "https://localhost:8080/"
    },
    "executionInfo": {
     "elapsed": 3,
     "status": "ok",
     "timestamp": 1696259304559,
     "user": {
      "displayName": "Flor Elizabeth Cerdan Leon",
      "userId": "15782977567018768645"
     },
     "user_tz": 300
    },
    "id": "-lpriioO0BaT",
    "outputId": "63fe83ba-8a61-41dd-fe54-47f378e5a628"
   },
   "outputs": [
    {
     "data": {
      "text/plain": [
       "{'Bravo', 'Peña', 'Torres', 'Villanueva'}"
      ]
     },
     "execution_count": 32,
     "metadata": {},
     "output_type": "execute_result"
    }
   ],
   "source": [
    "# 1.3 Conjuntos\n",
    "# Es una colección de elementos que no está ordenado\n",
    " # (Significa que no tiene un índice)\n",
    "conjunto_aula = {'Bravo','Peña','Torres','Villanueva'}\n",
    "conjunto_aula"
   ]
  },
  {
   "cell_type": "code",
   "execution_count": 33,
   "metadata": {
    "colab": {
     "base_uri": "https://localhost:8080/"
    },
    "executionInfo": {
     "elapsed": 3,
     "status": "ok",
     "timestamp": 1696259306463,
     "user": {
      "displayName": "Flor Elizabeth Cerdan Leon",
      "userId": "15782977567018768645"
     },
     "user_tz": 300
    },
    "id": "1P4FLx2X0BaU",
    "outputId": "fe7780b6-2a48-4854-fb3e-421d496ab256"
   },
   "outputs": [
    {
     "name": "stdout",
     "output_type": "stream",
     "text": [
      "Peña\n",
      "Torres\n",
      "Villanueva\n",
      "Bravo\n"
     ]
    }
   ],
   "source": [
    "# Se puede recorrer utilizando una estructura repetitiva\n",
    "# Ejemplo: for\n",
    "for alumno in conjunto_aula:\n",
    "    print(alumno)"
   ]
  },
  {
   "cell_type": "code",
   "execution_count": 23,
   "metadata": {
    "id": "ovlXKtYQ0BaV"
   },
   "outputs": [],
   "source": [
    "# Observación: No se puede acceder por posición pues no considera indexación\n",
    "# Por ejemplo:\n",
    "#Pregunta de Examen\n",
    "#conjunto_aula[2] devolvería un mensaje de error"
   ]
  },
  {
   "cell_type": "code",
   "execution_count": 34,
   "metadata": {
    "colab": {
     "base_uri": "https://localhost:8080/"
    },
    "executionInfo": {
     "elapsed": 2,
     "status": "ok",
     "timestamp": 1696259307646,
     "user": {
      "displayName": "Flor Elizabeth Cerdan Leon",
      "userId": "15782977567018768645"
     },
     "user_tz": 300
    },
    "id": "QMetSMgQ0BaV",
    "outputId": "347cff7c-1cc4-4bf8-d9d7-792aca3bce3c"
   },
   "outputs": [
    {
     "data": {
      "text/plain": [
       "4"
      ]
     },
     "execution_count": 34,
     "metadata": {},
     "output_type": "execute_result"
    }
   ],
   "source": [
    "# Para saber la cantidad de elementos utilizamos len()\n",
    "len(conjunto_aula)"
   ]
  },
  {
   "cell_type": "code",
   "execution_count": 35,
   "metadata": {
    "colab": {
     "base_uri": "https://localhost:8080/"
    },
    "executionInfo": {
     "elapsed": 2,
     "status": "ok",
     "timestamp": 1696259308108,
     "user": {
      "displayName": "Flor Elizabeth Cerdan Leon",
      "userId": "15782977567018768645"
     },
     "user_tz": 300
    },
    "id": "CzGMqrMj0BaW",
    "outputId": "5175f4ed-64d5-479f-a5cc-abe21ce9592f"
   },
   "outputs": [
    {
     "data": {
      "text/plain": [
       "{'Bravo', 'Herrera', 'Peña', 'Torres', 'Villanueva'}"
      ]
     },
     "execution_count": 35,
     "metadata": {},
     "output_type": "execute_result"
    }
   ],
   "source": [
    "# Para agregar utilizamos la función add()\n",
    "conjunto_aula.add(\"Herrera\")\n",
    "conjunto_aula"
   ]
  },
  {
   "cell_type": "code",
   "execution_count": 36,
   "metadata": {
    "colab": {
     "base_uri": "https://localhost:8080/"
    },
    "executionInfo": {
     "elapsed": 2,
     "status": "ok",
     "timestamp": 1696259308539,
     "user": {
      "displayName": "Flor Elizabeth Cerdan Leon",
      "userId": "15782977567018768645"
     },
     "user_tz": 300
    },
    "id": "HuAaBvF_0BaW",
    "outputId": "cfdc10e1-090d-4090-870c-560ed6b5293c"
   },
   "outputs": [
    {
     "data": {
      "text/plain": [
       "{'Bravo', 'Peña', 'Torres', 'Villanueva'}"
      ]
     },
     "execution_count": 36,
     "metadata": {},
     "output_type": "execute_result"
    }
   ],
   "source": [
    "# Parar eliminar elementos utilizamos la función remove()\n",
    "conjunto_aula.remove(\"Herrera\")\n",
    "conjunto_aula"
   ]
  },
  {
   "cell_type": "code",
   "execution_count": 37,
   "metadata": {
    "colab": {
     "base_uri": "https://localhost:8080/"
    },
    "executionInfo": {
     "elapsed": 2,
     "status": "ok",
     "timestamp": 1696259309029,
     "user": {
      "displayName": "Flor Elizabeth Cerdan Leon",
      "userId": "15782977567018768645"
     },
     "user_tz": 300
    },
    "id": "QAI6507p0BaX",
    "outputId": "e20ac8dc-c0c1-44de-bb44-3d51d236c6f3"
   },
   "outputs": [
    {
     "data": {
      "text/plain": [
       "{'2': 'Peña', '1': 'Bravo', 'dos': 'Torres', '3': 'Villanueva', '0': 'Herrera'}"
      ]
     },
     "execution_count": 37,
     "metadata": {},
     "output_type": "execute_result"
    }
   ],
   "source": [
    "# 1.4. Diccionarios\n",
    "# Es una colección de elementos, que están indexados,\n",
    "# no estan ordenados y se pueden modificar\n",
    "# Son escritos entre llaves y están formados por pares de elementos\n",
    "#  INDICE:VALOR\n",
    "diccionario_aula = {'2':'Peña', '1':'Bravo', 'dos':'Torres', '3':'Villanueva',\n",
    "                    '0':'Herrera'}\n",
    "diccionario_aula"
   ]
  },
  {
   "cell_type": "code",
   "execution_count": 38,
   "metadata": {
    "colab": {
     "base_uri": "https://localhost:8080/",
     "height": 35
    },
    "executionInfo": {
     "elapsed": 5,
     "status": "ok",
     "timestamp": 1696259309360,
     "user": {
      "displayName": "Flor Elizabeth Cerdan Leon",
      "userId": "15782977567018768645"
     },
     "user_tz": 300
    },
    "id": "P6VRbp5C0BaY",
    "outputId": "0c520abf-f319-4e17-951d-59b47a558b0a"
   },
   "outputs": [
    {
     "data": {
      "text/plain": [
       "'Herrera'"
      ]
     },
     "execution_count": 38,
     "metadata": {},
     "output_type": "execute_result"
    }
   ],
   "source": [
    "# Del Diccionario: diccionario_aula extraer el valor cuyo índice sea cero en String:\n",
    "diccionario_aula['0']"
   ]
  },
  {
   "cell_type": "code",
   "execution_count": 39,
   "metadata": {
    "colab": {
     "base_uri": "https://localhost:8080/",
     "height": 35
    },
    "executionInfo": {
     "elapsed": 5,
     "status": "ok",
     "timestamp": 1696259309360,
     "user": {
      "displayName": "Flor Elizabeth Cerdan Leon",
      "userId": "15782977567018768645"
     },
     "user_tz": 300
    },
    "id": "R0Da-LNy0BaY",
    "outputId": "dc021ff0-0d7a-4e77-d791-c7aa75098b15"
   },
   "outputs": [
    {
     "data": {
      "text/plain": [
       "'Peña'"
      ]
     },
     "execution_count": 39,
     "metadata": {},
     "output_type": "execute_result"
    }
   ],
   "source": [
    "diccionario_aula['2']"
   ]
  },
  {
   "cell_type": "code",
   "execution_count": 40,
   "metadata": {
    "colab": {
     "base_uri": "https://localhost:8080/",
     "height": 35
    },
    "executionInfo": {
     "elapsed": 4,
     "status": "ok",
     "timestamp": 1696259309785,
     "user": {
      "displayName": "Flor Elizabeth Cerdan Leon",
      "userId": "15782977567018768645"
     },
     "user_tz": 300
    },
    "id": "eGsHEekp0BaZ",
    "outputId": "9a07e16b-538b-4207-c693-317b16423ab8"
   },
   "outputs": [
    {
     "data": {
      "text/plain": [
       "'Bravo'"
      ]
     },
     "execution_count": 40,
     "metadata": {},
     "output_type": "execute_result"
    }
   ],
   "source": [
    "diccionario_aula[\"1\"]"
   ]
  },
  {
   "cell_type": "code",
   "execution_count": 41,
   "metadata": {
    "colab": {
     "base_uri": "https://localhost:8080/",
     "height": 35
    },
    "executionInfo": {
     "elapsed": 5,
     "status": "ok",
     "timestamp": 1696259310546,
     "user": {
      "displayName": "Flor Elizabeth Cerdan Leon",
      "userId": "15782977567018768645"
     },
     "user_tz": 300
    },
    "id": "7cP1dMYi0BaZ",
    "outputId": "cb8bc4aa-799c-4c80-eafa-83d16cb1d883"
   },
   "outputs": [
    {
     "data": {
      "text/plain": [
       "'Torres'"
      ]
     },
     "execution_count": 41,
     "metadata": {},
     "output_type": "execute_result"
    }
   ],
   "source": [
    "diccionario_aula[\"dos\"]"
   ]
  },
  {
   "cell_type": "code",
   "execution_count": 42,
   "metadata": {
    "colab": {
     "base_uri": "https://localhost:8080/"
    },
    "executionInfo": {
     "elapsed": 5,
     "status": "ok",
     "timestamp": 1696259310547,
     "user": {
      "displayName": "Flor Elizabeth Cerdan Leon",
      "userId": "15782977567018768645"
     },
     "user_tz": 300
    },
    "id": "rEnwoQKX0Baa",
    "outputId": "229d63fc-8ae3-4872-ce02-1ab37653768f"
   },
   "outputs": [
    {
     "data": {
      "text/plain": [
       "{'2': 'Peña',\n",
       " '1': 'Bravo',\n",
       " 'dos': 'Torres',\n",
       " '3': 'Villanueva',\n",
       " '0': 'Herrera',\n",
       " '20': 'Caballero'}"
      ]
     },
     "execution_count": 42,
     "metadata": {},
     "output_type": "execute_result"
    }
   ],
   "source": [
    "# Para añadir un par de elementos al diccionario hacemos:\n",
    "diccionario_aula['20'] = \"Caballero\"\n",
    "diccionario_aula"
   ]
  },
  {
   "cell_type": "code",
   "execution_count": 43,
   "metadata": {
    "colab": {
     "base_uri": "https://localhost:8080/"
    },
    "executionInfo": {
     "elapsed": 2,
     "status": "ok",
     "timestamp": 1696259310834,
     "user": {
      "displayName": "Flor Elizabeth Cerdan Leon",
      "userId": "15782977567018768645"
     },
     "user_tz": 300
    },
    "id": "pdxbDZtp0Baa",
    "outputId": "ee85301a-6f63-4f63-eb68-9ef48a33438e"
   },
   "outputs": [
    {
     "data": {
      "text/plain": [
       "{'2': 'Peña',\n",
       " '1': 'Bravo',\n",
       " 'dos': 'Torres',\n",
       " '3': 'Villanueva',\n",
       " '0': 'Herrera',\n",
       " '20': 'Caballero'}"
      ]
     },
     "execution_count": 43,
     "metadata": {},
     "output_type": "execute_result"
    }
   ],
   "source": [
    "# Para eliminar un valor se utiliza pop()\n",
    "# Por ejemplo,eliminar el elmento de índice dos.ejemplo: Para eliminar a Bernaola que tendríamos que hacer:\n",
    "#diccionario_aula.pop('1')\n",
    "diccionario_aula"
   ]
  },
  {
   "cell_type": "code",
   "execution_count": 49,
   "metadata": {
    "colab": {
     "base_uri": "https://localhost:8080/"
    },
    "executionInfo": {
     "elapsed": 3,
     "status": "ok",
     "timestamp": 1696259310835,
     "user": {
      "displayName": "Flor Elizabeth Cerdan Leon",
      "userId": "15782977567018768645"
     },
     "user_tz": 300
    },
    "id": "fwKZxftM0Bab",
    "outputId": "d4690e41-1bea-4b9f-e8b5-34e46e097d12"
   },
   "outputs": [
    {
     "data": {
      "text/plain": [
       "{'2': 'Peña', '1': 'Bravo', 'dos': 'Torres', '3': 'Villanueva', '0': 'Herrera'}"
      ]
     },
     "execution_count": 49,
     "metadata": {},
     "output_type": "execute_result"
    }
   ],
   "source": [
    "# Tambien se puede eliminar utilizando del()\n",
    "#del(diccionario_aula['20'])\n",
    "diccionario_aula"
   ]
  },
  {
   "cell_type": "code",
   "execution_count": 50,
   "metadata": {
    "colab": {
     "base_uri": "https://localhost:8080/"
    },
    "executionInfo": {
     "elapsed": 3,
     "status": "ok",
     "timestamp": 1696259311199,
     "user": {
      "displayName": "Flor Elizabeth Cerdan Leon",
      "userId": "15782977567018768645"
     },
     "user_tz": 300
    },
    "id": "RdxKlkM80Bab",
    "outputId": "58c8f6e3-fced-4156-f322-827757e42ba5"
   },
   "outputs": [
    {
     "name": "stdout",
     "output_type": "stream",
     "text": [
      "2\n",
      "1\n",
      "dos\n",
      "3\n",
      "0\n"
     ]
    }
   ],
   "source": [
    "# Para recorrer todos los elementos podemos utilizar for\n",
    "# En este ejemplo devuelve los índices\n",
    "for indice in diccionario_aula:\n",
    "    print(indice)"
   ]
  },
  {
   "cell_type": "code",
   "execution_count": 51,
   "metadata": {
    "colab": {
     "base_uri": "https://localhost:8080/"
    },
    "executionInfo": {
     "elapsed": 1,
     "status": "ok",
     "timestamp": 1696259311581,
     "user": {
      "displayName": "Flor Elizabeth Cerdan Leon",
      "userId": "15782977567018768645"
     },
     "user_tz": 300
    },
    "id": "GGlf25Wn0Bac",
    "outputId": "94539d7c-d4b8-4a4a-e62e-5afdb8d26c7a"
   },
   "outputs": [
    {
     "name": "stdout",
     "output_type": "stream",
     "text": [
      "2 Peña\n",
      "1 Bravo\n",
      "dos Torres\n",
      "3 Villanueva\n",
      "0 Herrera\n"
     ]
    }
   ],
   "source": [
    "# Para obtener el indice y el valor de cada elemento utilizamos items()\n",
    "for indice, valor in diccionario_aula.items():\n",
    "    print(indice, valor)"
   ]
  },
  {
   "cell_type": "code",
   "execution_count": null,
   "metadata": {
    "id": "fcBg4d4e0Bac"
   },
   "outputs": [],
   "source": [
    "# 1.5. Ejercicio\n",
    "# Dado una lista de [\"AMES\", \"ARTEAGA\", \"BARRIOS\", \"BONIFACIO\", \"BRAVO\", \"CABALLERO\", \"CAÑAZACA\", \"FERNANDEZ\", \"FLORES\", \"GARCIA\", \"HERRERA\", \"HUERTA\", \"HUERTAS\", \"JIMENEZ\", \"MAMANI\", \"MANCILLA\", \"PABLO\", \"PAYE\", \"PEÑA\", \"PIZANGO\", \"RAMOS\", \"SANCHEZ\", \"SEVILLANO\", \"TINOCO\", \"TORRES\", \"VALDIVIESO\", \"VELEZ\", \"VILLANUEVA\", \"ZUÑIGA\"]\n",
    "# Diseñar un código que muestre si el apellido de un estudiante (Ingresado por teclado) forma parte de la lista\n",
    "# tiempo: 12 minutos"
   ]
  },
  {
   "cell_type": "code",
   "execution_count": 57,
   "metadata": {
    "id": "93MKEOH_DSEi"
   },
   "outputs": [
    {
     "name": "stdout",
     "output_type": "stream",
     "text": [
      "Ingrese el apellido a buscar: BRAVO\n",
      "El apellido BRAVO está en la lista.\n"
     ]
    }
   ],
   "source": [
    "# Lista de apellidos de estudiantes\n",
    "lista_apellidos = [\"AMES\", \"ARTEAGA\", \"BARRIOS\", \"BONIFACIO\", \"BRAVO\", \"CABALLERO\", \"CAÑAZACA\", \"FERNANDEZ\", \"FLORES\", \"GARCIA\", \"HERRERA\", \"HUERTA\", \"HUERTAS\", \"JIMENEZ\", \"MAMANI\", \"MANCILLA\", \"PABLO\", \"PAYE\", \"PEÑA\", \"PIZANGO\", \"RAMOS\", \"SANCHEZ\", \"SEVILLANO\", \"TINOCO\", \"TORRES\", \"VALDIVIESO\", \"VELEZ\", \"VILLANUEVA\", \"ZUÑIGA\"]\n",
    "\n",
    "# Pedir al usuario que ingrese un apellido\n",
    "apellido_buscar = input(\"Ingrese el apellido a buscar: \")\n",
    "\n",
    "# Comprobar si el apellido está en la lista\n",
    "if apellido_buscar in lista_apellidos:\n",
    "    print(\"El apellido\", apellido_buscar, \"está en la lista.\")\n",
    "else:\n",
    "    print(\"El apellido\", apellido_buscar, \"no está en la lista.\")"
   ]
  },
  {
   "cell_type": "code",
   "execution_count": null,
   "metadata": {},
   "outputs": [],
   "source": []
  }
 ],
 "metadata": {
  "colab": {
   "provenance": []
  },
  "kernelspec": {
   "display_name": "Python 3 (ipykernel)",
   "language": "python",
   "name": "python3"
  },
  "language_info": {
   "codemirror_mode": {
    "name": "ipython",
    "version": 3
   },
   "file_extension": ".py",
   "mimetype": "text/x-python",
   "name": "python",
   "nbconvert_exporter": "python",
   "pygments_lexer": "ipython3",
   "version": "3.9.12"
  }
 },
 "nbformat": 4,
 "nbformat_minor": 1
}
