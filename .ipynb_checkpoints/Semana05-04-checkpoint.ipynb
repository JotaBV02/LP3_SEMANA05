{
 "cells": [
  {
   "cell_type": "code",
   "execution_count": 1,
   "id": "a0779743",
   "metadata": {},
   "outputs": [],
   "source": [
    "# SEMANA 05\n",
    "# Jorge Alberto Bravo Veintemilla"
   ]
  },
  {
   "cell_type": "markdown",
   "id": "3e1dab4f",
   "metadata": {},
   "source": [
    "Temas\n",
    "1. Colecciones de datos\n",
    "2. Estructuras Decisivas y Estructuras Repetitivas\n",
    "3. Funciones\n",
    "4. Clases y Objetos"
   ]
  },
  {
   "cell_type": "markdown",
   "id": "857c39ac",
   "metadata": {},
   "source": [
    "4. Clases y Objetos"
   ]
  },
  {
   "cell_type": "code",
   "execution_count": 3,
   "id": "4fa9af5b",
   "metadata": {},
   "outputs": [],
   "source": [
    "# Problema 01\n",
    "\n",
    "# Crear la siguiente clase:\n",
    "#   - Clase: Persona\n",
    "#   - Atributos: nombre, apellido, fecha_nacimiento, dni"
   ]
  },
  {
   "cell_type": "code",
   "execution_count": 4,
   "id": "60681b84",
   "metadata": {},
   "outputs": [],
   "source": [
    "class Persona:\n",
    "    nombre = \"\"\n",
    "    apellidos = \"\"\n",
    "    dni = \"\"\n",
    "    talla = 0"
   ]
  },
  {
   "cell_type": "code",
   "execution_count": 6,
   "id": "548f3494",
   "metadata": {},
   "outputs": [
    {
     "name": "stdout",
     "output_type": "stream",
     "text": [
      "Persona1\n",
      "Nombre: Jorge\n",
      "Apellidos: Bravo Veintemilla\n",
      "DNI: 87654321\n",
      "Talla: 1.75\n"
     ]
    }
   ],
   "source": [
    "# Creamos un objeto persona1 de la clase Persona()\n",
    "# y le asignamos valores\n",
    "\n",
    "#Creación del objeto persona1\n",
    "persona1 = Persona()\n",
    "\n",
    "# Asignamos valores al objeto\n",
    "persona1.nombre = \"Jorge\"\n",
    "persona1.apellidos = \"Bravo Veintemilla\"\n",
    "persona1.dni = \"87654321\"\n",
    "persona1.talla = 1.75\n",
    "\n",
    "# Para mostrar valores del objeto:\n",
    "print(\"Persona1\")\n",
    "print(f\"Nombre: {persona1.nombre}\")\n",
    "print(f\"Apellidos: {persona1.apellidos}\")\n",
    "print(f\"DNI: {persona1.dni}\")\n",
    "print(f\"Talla: {persona1.talla}\")"
   ]
  },
  {
   "cell_type": "code",
   "execution_count": 7,
   "id": "b4845272",
   "metadata": {},
   "outputs": [],
   "source": [
    "# Para utilizar constructores utilizamos: __init__\n",
    "# ¿Qué es un constructor?\n",
    "# - Es un método\n",
    "# - Sirve para inicializar valores a una clase"
   ]
  },
  {
   "cell_type": "code",
   "execution_count": 8,
   "id": "fb219365",
   "metadata": {},
   "outputs": [],
   "source": [
    "#Problema 02:\n",
    "\n",
    "# Crear la siguiente clase y utilizar constructores:\n",
    "#  - Clase: Curso\n",
    "#  - Atributos: Codigo, Nombre, horas, creditos,"
   ]
  },
  {
   "cell_type": "code",
   "execution_count": 10,
   "id": "a4b03ee1",
   "metadata": {},
   "outputs": [],
   "source": [
    "# Solución:\n",
    "class curso:\n",
    "    def __init__(self, codigo, nombre, horas, creditos):\n",
    "        self.codigo = codigo\n",
    "        self.nombre = nombre\n",
    "        self.horas = horas\n",
    "        self.creditos = creditos\n",
    "\n",
    "    def mostrar_datos_curso(self):\n",
    "        print(f\"Curso: {self.nombre}\")\n",
    "        print(f\"Código: {self.codigo}\")\n",
    "        print(f\"Horas: {self.horas}\")\n",
    "        print(f\"Créditos: {self.creditos}\")"
   ]
  },
  {
   "cell_type": "code",
   "execution_count": 11,
   "id": "3893d4c9",
   "metadata": {},
   "outputs": [],
   "source": [
    "# Creamos el objeto curso1 y le mandamos parámetros\n",
    "curso1 = curso(\"ISR0S1\",\"LP3\",6,3)"
   ]
  },
  {
   "cell_type": "code",
   "execution_count": 12,
   "id": "b63274fe",
   "metadata": {},
   "outputs": [
    {
     "name": "stdout",
     "output_type": "stream",
     "text": [
      "Curso: LP3\n",
      "Código: ISR0S1\n",
      "Horas: 6\n",
      "Créditos: 3\n"
     ]
    }
   ],
   "source": [
    "# Mostramos los datos completos del curso, ejecutando el metodo mostrar_datos_curso()\n",
    "curso1.mostrar_datos_curso();"
   ]
  },
  {
   "cell_type": "code",
   "execution_count": null,
   "id": "31b4ce42",
   "metadata": {},
   "outputs": [],
   "source": []
  }
 ],
 "metadata": {
  "kernelspec": {
   "display_name": "Python 3 (ipykernel)",
   "language": "python",
   "name": "python3"
  },
  "language_info": {
   "codemirror_mode": {
    "name": "ipython",
    "version": 3
   },
   "file_extension": ".py",
   "mimetype": "text/x-python",
   "name": "python",
   "nbconvert_exporter": "python",
   "pygments_lexer": "ipython3",
   "version": "3.9.12"
  }
 },
 "nbformat": 4,
 "nbformat_minor": 5
}
